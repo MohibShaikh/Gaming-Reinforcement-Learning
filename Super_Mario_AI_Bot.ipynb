{
  "metadata": {
    "kernelspec": {
      "language": "python",
      "display_name": "Python 3",
      "name": "python3"
    },
    "language_info": {
      "name": "python",
      "version": "3.10.13",
      "mimetype": "text/x-python",
      "codemirror_mode": {
        "name": "ipython",
        "version": 3
      },
      "pygments_lexer": "ipython3",
      "nbconvert_exporter": "python",
      "file_extension": ".py"
    },
    "kaggle": {
      "accelerator": "none",
      "dataSources": [],
      "dockerImageVersionId": 30684,
      "isInternetEnabled": true,
      "language": "python",
      "sourceType": "notebook",
      "isGpuEnabled": false
    },
    "colab": {
      "name": "Super Mario AI Bot",
      "provenance": [],
      "include_colab_link": true
    }
  },
  "nbformat_minor": 0,
  "nbformat": 4,
  "cells": [
    {
      "cell_type": "markdown",
      "metadata": {
        "id": "view-in-github",
        "colab_type": "text"
      },
      "source": [
        "<a href=\"https://colab.research.google.com/github/MohibShaikh/Gaming-Reinforcement-Learning/blob/main/Super_Mario_AI_Bot.ipynb\" target=\"_parent\"><img src=\"https://colab.research.google.com/assets/colab-badge.svg\" alt=\"Open In Colab\"/></a>"
      ]
    },
    {
      "cell_type": "code",
      "source": [
        "!pip install gym_super_mario_bros nes_py"
      ],
      "metadata": {
        "_uuid": "8f2839f25d086af736a60e9eeb907d3b93b6e0e5",
        "_cell_guid": "b1076dfc-b9ad-4769-8c92-a6c4dae69d19",
        "execution": {
          "iopub.status.busy": "2024-04-09T22:20:24.542169Z",
          "iopub.execute_input": "2024-04-09T22:20:24.542558Z",
          "iopub.status.idle": "2024-04-09T22:20:54.219264Z",
          "shell.execute_reply.started": "2024-04-09T22:20:24.542527Z",
          "shell.execute_reply": "2024-04-09T22:20:54.218273Z"
        },
        "trusted": true,
        "id": "jIap3FMY9b1B",
        "outputId": "7a3f5a56-7527-47b0-b248-b3397812e437"
      },
      "execution_count": null,
      "outputs": [
        {
          "name": "stdout",
          "text": "Collecting gym_super_mario_bros\n  Downloading gym_super_mario_bros-7.4.0-py3-none-any.whl.metadata (10 kB)\nCollecting nes_py\n  Downloading nes_py-8.2.1.tar.gz (77 kB)\n\u001b[2K     \u001b[90m━━━━━━━━━━━━━━━━━━━━━━━━━━━━━━━━━━━━━━━━\u001b[0m \u001b[32m77.7/77.7 kB\u001b[0m \u001b[31m3.2 MB/s\u001b[0m eta \u001b[36m0:00:00\u001b[0m\n\u001b[?25h  Preparing metadata (setup.py) ... \u001b[?25ldone\n\u001b[?25hRequirement already satisfied: gym>=0.17.2 in /opt/conda/lib/python3.10/site-packages (from nes_py) (0.26.2)\nRequirement already satisfied: numpy>=1.18.5 in /opt/conda/lib/python3.10/site-packages (from nes_py) (1.26.4)\nCollecting pyglet<=1.5.21,>=1.4.0 (from nes_py)\n  Downloading pyglet-1.5.21-py3-none-any.whl.metadata (7.6 kB)\nRequirement already satisfied: tqdm>=4.48.2 in /opt/conda/lib/python3.10/site-packages (from nes_py) (4.66.1)\nRequirement already satisfied: cloudpickle>=1.2.0 in /opt/conda/lib/python3.10/site-packages (from gym>=0.17.2->nes_py) (2.2.1)\nRequirement already satisfied: gym-notices>=0.0.4 in /opt/conda/lib/python3.10/site-packages (from gym>=0.17.2->nes_py) (0.0.8)\nDownloading gym_super_mario_bros-7.4.0-py3-none-any.whl (199 kB)\n\u001b[2K   \u001b[90m━━━━━━━━━━━━━━━━━━━━━━━━━━━━━━━━━━━━━━━━\u001b[0m \u001b[32m199.1/199.1 kB\u001b[0m \u001b[31m8.9 MB/s\u001b[0m eta \u001b[36m0:00:00\u001b[0m\n\u001b[?25hDownloading pyglet-1.5.21-py3-none-any.whl (1.1 MB)\n\u001b[2K   \u001b[90m━━━━━━━━━━━━━━━━━━━━━━━━━━━━━━━━━━━━━━━━\u001b[0m \u001b[32m1.1/1.1 MB\u001b[0m \u001b[31m36.1 MB/s\u001b[0m eta \u001b[36m0:00:00\u001b[0m\n\u001b[?25hBuilding wheels for collected packages: nes_py\n  Building wheel for nes_py (setup.py) ... \u001b[?25ldone\n\u001b[?25h  Created wheel for nes_py: filename=nes_py-8.2.1-cp310-cp310-linux_x86_64.whl size=48172 sha256=dcac3eceeb295b169d60857ad4fc56b3d0d6716c32f8ea1d46cb80181cda9af1\n  Stored in directory: /root/.cache/pip/wheels/34/a7/d5/9aa14b15df740a53d41f702e4c795731b6c4da7925deb8476c\nSuccessfully built nes_py\nInstalling collected packages: pyglet, nes_py, gym_super_mario_bros\nSuccessfully installed gym_super_mario_bros-7.4.0 nes_py-8.2.1 pyglet-1.5.21\n",
          "output_type": "stream"
        }
      ]
    },
    {
      "cell_type": "code",
      "source": [
        "import gym_super_mario_bros\n",
        "from nes_py.wrappers import JoypadSpace\n",
        "from gym_super_mario_bros.actions import SIMPLE_MOVEMENT"
      ],
      "metadata": {
        "execution": {
          "iopub.status.busy": "2024-04-09T22:22:19.732456Z",
          "iopub.execute_input": "2024-04-09T22:22:19.733124Z",
          "iopub.status.idle": "2024-04-09T22:22:19.737971Z",
          "shell.execute_reply.started": "2024-04-09T22:22:19.733092Z",
          "shell.execute_reply": "2024-04-09T22:22:19.736882Z"
        },
        "trusted": true,
        "id": "QbT0h_959b1I"
      },
      "execution_count": null,
      "outputs": []
    },
    {
      "cell_type": "code",
      "source": [],
      "metadata": {
        "id": "51ReqoYa9b1J"
      },
      "execution_count": null,
      "outputs": []
    }
  ]
}